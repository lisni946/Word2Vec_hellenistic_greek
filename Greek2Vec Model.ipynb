{
 "cells": [
  {
   "cell_type": "markdown",
   "metadata": {},
   "source": [
    "#  Word2Vec Model\n",
    "## Dependencies and Corpus Collation\n",
    "\n",
    "A vector is a kind of tensor"
   ]
  },
  {
   "cell_type": "code",
   "execution_count": 16,
   "metadata": {},
   "outputs": [],
   "source": [
    "# dependencies\n",
    "from __future__ import absolute_import, division, print_function\n",
    "import codecs\n",
    "import glob\n",
    "import multiprocessing\n",
    "import os\n",
    "import pprint\n",
    "import re\n",
    "import nltk\n",
    "import gensim.models.word2vec as w2v\n",
    "import sklearn.manifold\n",
    "import numpy as np\n",
    "import matplotlib.pyplot as plt\n",
    "import pandas as pd\n",
    "import seaborn as sns\n",
    "import string\n",
    "from nltk.corpus.reader import WordListCorpusReader\n",
    "from cltk.tokenize.sentence import TokenizeSentence\n",
    "tokenizer = TokenizeSentence('greek')"
   ]
  },
  {
   "cell_type": "code",
   "execution_count": 3,
   "metadata": {},
   "outputs": [
    {
     "name": "stdout",
     "output_type": "stream",
     "text": [
      "Collecting gensim\n",
      "\u001b[?25l  Downloading https://files.pythonhosted.org/packages/b3/54/1d7294672110d5c0565cabc4b99ed952ced9a2dc2ca1d59ad1b34303a6de/gensim-3.8.1-cp37-cp37m-macosx_10_6_intel.macosx_10_9_intel.macosx_10_9_x86_64.macosx_10_10_intel.macosx_10_10_x86_64.whl (24.7MB)\n",
      "\u001b[K     |████████████████████████████████| 24.7MB 213kB/s eta 0:00:01\n",
      "\u001b[?25hRequirement already satisfied: scipy>=0.18.1 in ./opt/anaconda3/lib/python3.7/site-packages (from gensim) (1.3.1)\n",
      "Requirement already satisfied: numpy>=1.11.3 in ./opt/anaconda3/lib/python3.7/site-packages (from gensim) (1.17.2)\n",
      "Requirement already satisfied: six>=1.5.0 in ./opt/anaconda3/lib/python3.7/site-packages (from gensim) (1.12.0)\n",
      "Collecting smart-open>=1.8.1 (from gensim)\n",
      "\u001b[?25l  Downloading https://files.pythonhosted.org/packages/0c/09/735f2786dfac9bbf39d244ce75c0313d27d4962e71e0774750dc809f2395/smart_open-1.9.0.tar.gz (70kB)\n",
      "\u001b[K     |████████████████████████████████| 71kB 7.5MB/s eta 0:00:011\n",
      "\u001b[?25hRequirement already satisfied: boto>=2.32 in ./opt/anaconda3/lib/python3.7/site-packages (from smart-open>=1.8.1->gensim) (2.49.0)\n",
      "Requirement already satisfied: requests in ./opt/anaconda3/lib/python3.7/site-packages (from smart-open>=1.8.1->gensim) (2.22.0)\n",
      "Collecting boto3 (from smart-open>=1.8.1->gensim)\n",
      "\u001b[?25l  Downloading https://files.pythonhosted.org/packages/76/14/1236c87525b0b3138e964fe7ca9f52b16d6dfaab26295c47d4a4c48d749e/boto3-1.12.17-py2.py3-none-any.whl (128kB)\n",
      "\u001b[K     |████████████████████████████████| 133kB 6.9MB/s eta 0:00:01\n",
      "\u001b[?25hRequirement already satisfied: certifi>=2017.4.17 in ./opt/anaconda3/lib/python3.7/site-packages (from requests->smart-open>=1.8.1->gensim) (2019.9.11)\n",
      "Requirement already satisfied: idna<2.9,>=2.5 in ./opt/anaconda3/lib/python3.7/site-packages (from requests->smart-open>=1.8.1->gensim) (2.8)\n",
      "Requirement already satisfied: chardet<3.1.0,>=3.0.2 in ./opt/anaconda3/lib/python3.7/site-packages (from requests->smart-open>=1.8.1->gensim) (3.0.4)\n",
      "Requirement already satisfied: urllib3!=1.25.0,!=1.25.1,<1.26,>=1.21.1 in ./opt/anaconda3/lib/python3.7/site-packages (from requests->smart-open>=1.8.1->gensim) (1.24.2)\n",
      "Collecting botocore<1.16.0,>=1.15.17 (from boto3->smart-open>=1.8.1->gensim)\n",
      "\u001b[?25l  Downloading https://files.pythonhosted.org/packages/5e/05/2cfadb8568a64bf9c9dc6cd89419b07cbf88f49ce1f6dd475b34737e7221/botocore-1.15.17-py2.py3-none-any.whl (6.0MB)\n",
      "\u001b[K     |████████████████████████████████| 6.0MB 7.4MB/s eta 0:00:01\n",
      "\u001b[?25hCollecting s3transfer<0.4.0,>=0.3.0 (from boto3->smart-open>=1.8.1->gensim)\n",
      "\u001b[?25l  Downloading https://files.pythonhosted.org/packages/69/79/e6afb3d8b0b4e96cefbdc690f741d7dd24547ff1f94240c997a26fa908d3/s3transfer-0.3.3-py2.py3-none-any.whl (69kB)\n",
      "\u001b[K     |████████████████████████████████| 71kB 8.6MB/s eta 0:00:011\n",
      "\u001b[?25hCollecting jmespath<1.0.0,>=0.7.1 (from boto3->smart-open>=1.8.1->gensim)\n",
      "  Downloading https://files.pythonhosted.org/packages/a3/43/1e939e1fcd87b827fe192d0c9fc25b48c5b3368902bfb913de7754b0dc03/jmespath-0.9.5-py2.py3-none-any.whl\n",
      "Requirement already satisfied: docutils<0.16,>=0.10 in ./opt/anaconda3/lib/python3.7/site-packages (from botocore<1.16.0,>=1.15.17->boto3->smart-open>=1.8.1->gensim) (0.15.2)\n",
      "Requirement already satisfied: python-dateutil<3.0.0,>=2.1 in ./opt/anaconda3/lib/python3.7/site-packages (from botocore<1.16.0,>=1.15.17->boto3->smart-open>=1.8.1->gensim) (2.8.0)\n",
      "Building wheels for collected packages: smart-open\n",
      "  Building wheel for smart-open (setup.py) ... \u001b[?25ldone\n",
      "\u001b[?25h  Created wheel for smart-open: filename=smart_open-1.9.0-cp37-none-any.whl size=73088 sha256=d52c63112550b5e4a1de206fdab3ba3c9d8ded8b8f59983304cf27abbf98656c\n",
      "  Stored in directory: /Users/christinaoaks/Library/Caches/pip/wheels/ab/10/93/5cff86f5b721d77edaecc29959b1c60d894be1f66d91407d28\n",
      "Successfully built smart-open\n",
      "Installing collected packages: jmespath, botocore, s3transfer, boto3, smart-open, gensim\n",
      "Successfully installed boto3-1.12.17 botocore-1.15.17 gensim-3.8.1 jmespath-0.9.5 s3transfer-0.3.3 smart-open-1.9.0\n",
      "Note: you may need to restart the kernel to use updated packages.\n"
     ]
    }
   ],
   "source": [
    "pip install gensim"
   ]
  },
  {
   "cell_type": "code",
   "execution_count": 2,
   "metadata": {
    "scrolled": true
   },
   "outputs": [
    {
     "name": "stderr",
     "output_type": "stream",
     "text": [
      "[nltk_data] Downloading package punkt to /Users/nicklist/nltk_data...\n",
      "[nltk_data]   Package punkt is already up-to-date!\n",
      "[nltk_data] Downloading package stopwords to\n",
      "[nltk_data]     /Users/nicklist/nltk_data...\n",
      "[nltk_data]   Package stopwords is already up-to-date!\n"
     ]
    },
    {
     "data": {
      "text/plain": [
       "True"
      ]
     },
     "execution_count": 2,
     "metadata": {},
     "output_type": "execute_result"
    }
   ],
   "source": [
    "# these will need to be the CLTK versions\n",
    "nltk.download('punkt')\n",
    "nltk.download('stopwords')"
   ]
  },
  {
   "cell_type": "markdown",
   "metadata": {},
   "source": [
    "## Importing Local Corpora"
   ]
  },
  {
   "cell_type": "code",
   "execution_count": 13,
   "metadata": {},
   "outputs": [],
   "source": [
    "# Importing local Corpora\n",
    "\n",
    "import cltk\n",
    "from cltk.corpus.utils.importer import CorpusImporter\n",
    "my_greek_downloader = CorpusImporter('greek')\n",
    "\n",
    "# this must be 'tlg', followed by orginal filepath\n",
    "my_greek_downloader.import_corpus('tlg', '/Users/christinaoaks/Desktop/greekcorpos')\n",
    "\n",
    "# see list of files"
   ]
  },
  {
   "cell_type": "code",
   "execution_count": 14,
   "metadata": {},
   "outputs": [
    {
     "name": "stdout",
     "output_type": "stream",
     "text": [
      "['/Users/christinaoaks/cltk_data/originals/tlg/001.txt', '/Users/christinaoaks/cltk_data/originals/tlg/002.txt', '/Users/christinaoaks/cltk_data/originals/tlg/003.txt', '/Users/christinaoaks/cltk_data/originals/tlg/004.txt', '/Users/christinaoaks/cltk_data/originals/tlg/005.txt', '/Users/christinaoaks/cltk_data/originals/tlg/006.txt', '/Users/christinaoaks/cltk_data/originals/tlg/007.txt', '/Users/christinaoaks/cltk_data/originals/tlg/008.txt', '/Users/christinaoaks/cltk_data/originals/tlg/009.txt', '/Users/christinaoaks/cltk_data/originals/tlg/010.txt', '/Users/christinaoaks/cltk_data/originals/tlg/011.txt', '/Users/christinaoaks/cltk_data/originals/tlg/012.txt']\n"
     ]
    }
   ],
   "source": [
    "book_filenames = sorted(glob.glob('/Users/christinaoaks/cltk_data/originals/tlg/*.txt')) #file path\n",
    "print(book_filenames)"
   ]
  },
  {
   "cell_type": "markdown",
   "metadata": {},
   "source": [
    "## Preprocessing and Tokenization"
   ]
  },
  {
   "cell_type": "code",
   "execution_count": 15,
   "metadata": {},
   "outputs": [
    {
     "name": "stdout",
     "output_type": "stream",
     "text": [
      "Reading '/Users/christinaoaks/cltk_data/originals/tlg/001.txt'...\n",
      "Corpus is now 12058 characters long\n",
      "\n",
      "Reading '/Users/christinaoaks/cltk_data/originals/tlg/002.txt'...\n",
      "Corpus is now 23470 characters long\n",
      "\n",
      "Reading '/Users/christinaoaks/cltk_data/originals/tlg/003.txt'...\n",
      "Corpus is now 34448 characters long\n",
      "\n",
      "Reading '/Users/christinaoaks/cltk_data/originals/tlg/004.txt'...\n",
      "Corpus is now 43516 characters long\n",
      "\n",
      "Reading '/Users/christinaoaks/cltk_data/originals/tlg/005.txt'...\n",
      "Corpus is now 54266 characters long\n",
      "\n",
      "Reading '/Users/christinaoaks/cltk_data/originals/tlg/006.txt'...\n",
      "Corpus is now 81754 characters long\n",
      "\n",
      "Reading '/Users/christinaoaks/cltk_data/originals/tlg/007.txt'...\n",
      "Corpus is now 83167 characters long\n",
      "\n",
      "Reading '/Users/christinaoaks/cltk_data/originals/tlg/008.txt'...\n",
      "Corpus is now 90488 characters long\n",
      "\n",
      "Reading '/Users/christinaoaks/cltk_data/originals/tlg/009.txt'...\n",
      "Corpus is now 95454 characters long\n",
      "\n",
      "Reading '/Users/christinaoaks/cltk_data/originals/tlg/010.txt'...\n",
      "Corpus is now 103449 characters long\n",
      "\n",
      "Reading '/Users/christinaoaks/cltk_data/originals/tlg/011.txt'...\n",
      "Corpus is now 104814 characters long\n",
      "\n",
      "Reading '/Users/christinaoaks/cltk_data/originals/tlg/012.txt'...\n",
      "Corpus is now 117249 characters long\n",
      "\n"
     ]
    }
   ],
   "source": [
    "# individual files are placed into one long file (here, called corpus_raw)\n",
    "# u'' makes it unicode, utf-8 is the unicode format\n",
    "corpus_raw = u''\n",
    "for book_filename in book_filenames:\n",
    "    print(\"Reading '{0}'...\".format(book_filename))\n",
    "    with codecs.open(book_filename, 'r', 'utf-8') as book_file:\n",
    "        corpus_raw += book_file.read()\n",
    "    print('Corpus is now {0} characters long'.format(len(corpus_raw)))\n",
    "    print()"
   ]
  },
  {
   "cell_type": "code",
   "execution_count": 19,
   "metadata": {},
   "outputs": [],
   "source": [
    "s = str(corpus_raw)"
   ]
  },
  {
   "cell_type": "code",
   "execution_count": 20,
   "metadata": {},
   "outputs": [],
   "source": [
    "# Stops\n",
    "from nltk.tokenize.punkt import PunktLanguageVars\n",
    "from cltk.stop.greek.stops import STOPS_LIST\n",
    "\n",
    "p = PunktLanguageVars()\n",
    "tokens = p.word_tokenize(s.lower())\n",
    "s2 = [w for w in tokens if not w in STOPS_LIST]\n",
    "s3 = ' '.join(s2)"
   ]
  },
  {
   "cell_type": "code",
   "execution_count": 21,
   "metadata": {},
   "outputs": [],
   "source": [
    "# remove commas and quotation marks\n",
    "remover = s3.replace(\"'\", '').replace(\",\", '').replace(\"(\", '').replace(\")\", '')\n",
    "s4 = str(remover).lower()"
   ]
  },
  {
   "cell_type": "code",
   "execution_count": 25,
   "metadata": {},
   "outputs": [],
   "source": [
    "# finally, tokenize the sentences\n",
    "raw_sentences = tokenizer.tokenize_sentences(s4)"
   ]
  },
  {
   "cell_type": "code",
   "execution_count": 26,
   "metadata": {},
   "outputs": [
    {
     "name": "stdout",
     "output_type": "stream",
     "text": [
      "1129\n"
     ]
    }
   ],
   "source": [
    "# nummber of tokenized sentences\n",
    "print(len(raw_sentences))"
   ]
  },
  {
   "cell_type": "code",
   "execution_count": null,
   "metadata": {},
   "outputs": [],
   "source": [
    "# view each tokenized sentence by line\n",
    "for sentence in raw_sentences:\n",
    "    print(sentence)\n",
    "    print()"
   ]
  },
  {
   "cell_type": "code",
   "execution_count": 34,
   "metadata": {},
   "outputs": [],
   "source": [
    "# coverts into a list of words\n",
    "def sentence_to_wordlist(raw):\n",
    "    clean = re.sub('[\\W]', ' ', raw)\n",
    "    words = clean.split()\n",
    "    return words"
   ]
  },
  {
   "cell_type": "code",
   "execution_count": 35,
   "metadata": {},
   "outputs": [],
   "source": [
    "# each sentence contains a list of words that is tokenized\n",
    "sentences = []\n",
    "for raw_sentence in raw_sentences:\n",
    "    if len(raw_sentence) > 0:\n",
    "        sentences.append(sentence_to_wordlist(raw_sentence))"
   ]
  },
  {
   "cell_type": "code",
   "execution_count": 36,
   "metadata": {},
   "outputs": [
    {
     "name": "stdout",
     "output_type": "stream",
     "text": [
      " ἀδελφοί μου  ζηλοῦτε προφητεύειν  λαλεῖν κωλύετε γλώσσαις·\n",
      "['ἀδελφοί', 'μου', 'ζηλοῦτε', 'προφητεύειν', 'λαλεῖν', 'κωλύετε', 'γλώσσαις']\n"
     ]
    }
   ],
   "source": [
    "# this is just to test the variables \n",
    "print(raw_sentences[61])\n",
    "print(sentence_to_wordlist(raw_sentences[61]))"
   ]
  },
  {
   "cell_type": "code",
   "execution_count": 37,
   "metadata": {},
   "outputs": [
    {
     "name": "stdout",
     "output_type": "stream",
     "text": [
      "The corpus contains 12,108 tokens\n"
     ]
    }
   ],
   "source": [
    "token_count = sum([len(sentence) for sentence in sentences])\n",
    "print('The corpus contains {0:,} tokens'.format(token_count))"
   ]
  },
  {
   "cell_type": "markdown",
   "metadata": {},
   "source": [
    "## Train Word2Vec\n",
    "\n",
    "Building the model"
   ]
  },
  {
   "cell_type": "code",
   "execution_count": 40,
   "metadata": {},
   "outputs": [],
   "source": [
    "# This code defines the hyperparameter\n",
    "# Dimensionality of the resulting word vectors. \n",
    "# The more vectors, the more computaionally extensive to train, but also more accurate.\n",
    "num_features = 300\n",
    "\n",
    "# Minimum word count threshold.\n",
    "min_word_count = 3\n",
    "\n",
    "# Number of threads to run in parallel.\n",
    "num_workers = multiprocessing.cpu_count()\n",
    "\n",
    "# Context window length. Note that Munson (2017: 17) says context_size is optimized at 12 for Greek.\n",
    "context_size = 7\n",
    "\n",
    "# Downsample setting for frequent words.\n",
    "#rate 0 and 1e-5 \n",
    "#how often to use\n",
    "downsampling = 1e-3\n",
    "\n",
    "# Seed for the RNG, to make the results reproducible. This is a random number generator\n",
    "seed = 1"
   ]
  },
  {
   "cell_type": "code",
   "execution_count": 41,
   "metadata": {},
   "outputs": [],
   "source": [
    "# rename this variable for Greek model\n",
    "greek2vec = w2v.Word2Vec(\n",
    "    sg=1,\n",
    "    seed=seed,\n",
    "    workers=num_workers,\n",
    "    size=num_features,\n",
    "    min_count=min_word_count,\n",
    "    window=context_size,\n",
    "    sample=downsampling\n",
    ")"
   ]
  },
  {
   "cell_type": "code",
   "execution_count": 42,
   "metadata": {},
   "outputs": [],
   "source": [
    "greek2vec.build_vocab(sentences)"
   ]
  },
  {
   "cell_type": "code",
   "execution_count": 43,
   "metadata": {},
   "outputs": [
    {
     "name": "stdout",
     "output_type": "stream",
     "text": [
      "Word2Vec vocabulary length: 804\n"
     ]
    }
   ],
   "source": [
    "print('Word2Vec vocabulary length:', len(greek2vec.wv.vocab))"
   ]
  },
  {
   "cell_type": "code",
   "execution_count": 44,
   "metadata": {},
   "outputs": [
    {
     "data": {
      "text/plain": [
       "(579878, 1210800)"
      ]
     },
     "execution_count": 44,
     "metadata": {},
     "output_type": "execute_result"
    }
   ],
   "source": [
    "#train model on sentneces, this may take a while to process\n",
    "greek2vec.train(sentences, total_examples=len(sentences), epochs=100)"
   ]
  },
  {
   "cell_type": "markdown",
   "metadata": {},
   "source": [
    "## Save and Load Model"
   ]
  },
  {
   "cell_type": "code",
   "execution_count": 45,
   "metadata": {},
   "outputs": [],
   "source": [
    "#save model\n",
    "if not os.path.exists(\"trained\"):\n",
    "    os.makedirs(\"trained\")"
   ]
  },
  {
   "cell_type": "code",
   "execution_count": 46,
   "metadata": {},
   "outputs": [],
   "source": [
    "greek2vec.save(os.path.join(\"trained\", \"greek2vec.w2v\"))"
   ]
  },
  {
   "cell_type": "code",
   "execution_count": 47,
   "metadata": {},
   "outputs": [],
   "source": [
    "#load model\n",
    "greek2vec = w2v.Word2Vec.load(os.path.join(\"trained\", \"greek2vec.w2v\"))"
   ]
  },
  {
   "cell_type": "markdown",
   "metadata": {},
   "source": [
    "## Scatterplot Representation\n"
   ]
  },
  {
   "cell_type": "code",
   "execution_count": 48,
   "metadata": {},
   "outputs": [],
   "source": [
    "#squash dimensionality to 2-dimensions\n",
    "#https://www.oreilly.com/learning/an-illustrated-introduction-to-the-t-sne-algorithm\n",
    "tsne = sklearn.manifold.TSNE(n_components=2, random_state=0)"
   ]
  },
  {
   "cell_type": "code",
   "execution_count": 49,
   "metadata": {},
   "outputs": [
    {
     "name": "stderr",
     "output_type": "stream",
     "text": [
      "/Users/christinaoaks/opt/anaconda3/lib/python3.7/site-packages/ipykernel_launcher.py:2: DeprecationWarning: Call to deprecated `syn0` (Attribute will be removed in 4.0.0, use self.vectors instead).\n",
      "  \n"
     ]
    }
   ],
   "source": [
    "#put it all into a giant matrix\n",
    "all_word_vectors_matrix = greek2vec.wv.syn0"
   ]
  },
  {
   "cell_type": "code",
   "execution_count": 50,
   "metadata": {},
   "outputs": [],
   "source": [
    "#train t sne\n",
    "all_word_vectors_matrix_2d = tsne.fit_transform(all_word_vectors_matrix)"
   ]
  },
  {
   "cell_type": "code",
   "execution_count": 51,
   "metadata": {},
   "outputs": [],
   "source": [
    "#plot point in 2d space\n",
    "points = pd.DataFrame(\n",
    "    [\n",
    "        (word, coords[0], coords[1])\n",
    "        for word, coords in [\n",
    "            (word, all_word_vectors_matrix_2d[greek2vec.wv.vocab[word].index])\n",
    "            for word in greek2vec.wv.vocab\n",
    "        ]\n",
    "    ],\n",
    "    columns=[\"word\", \"x\", \"y\"]\n",
    ")"
   ]
  },
  {
   "cell_type": "code",
   "execution_count": 52,
   "metadata": {},
   "outputs": [
    {
     "data": {
      "text/html": [
       "<div>\n",
       "<style scoped>\n",
       "    .dataframe tbody tr th:only-of-type {\n",
       "        vertical-align: middle;\n",
       "    }\n",
       "\n",
       "    .dataframe tbody tr th {\n",
       "        vertical-align: top;\n",
       "    }\n",
       "\n",
       "    .dataframe thead th {\n",
       "        text-align: right;\n",
       "    }\n",
       "</style>\n",
       "<table border=\"1\" class=\"dataframe\">\n",
       "  <thead>\n",
       "    <tr style=\"text-align: right;\">\n",
       "      <th></th>\n",
       "      <th>word</th>\n",
       "      <th>x</th>\n",
       "      <th>y</th>\n",
       "    </tr>\n",
       "  </thead>\n",
       "  <tbody>\n",
       "    <tr>\n",
       "      <td>0</td>\n",
       "      <td>ταῖς</td>\n",
       "      <td>-5.560443</td>\n",
       "      <td>-17.311518</td>\n",
       "    </tr>\n",
       "    <tr>\n",
       "      <td>1</td>\n",
       "      <td>γλώσσαις</td>\n",
       "      <td>-23.244184</td>\n",
       "      <td>-11.922071</td>\n",
       "    </tr>\n",
       "    <tr>\n",
       "      <td>2</td>\n",
       "      <td>ἀνθρώπων</td>\n",
       "      <td>8.691706</td>\n",
       "      <td>-23.756657</td>\n",
       "    </tr>\n",
       "    <tr>\n",
       "      <td>3</td>\n",
       "      <td>λαλῶ</td>\n",
       "      <td>18.224779</td>\n",
       "      <td>-14.906912</td>\n",
       "    </tr>\n",
       "    <tr>\n",
       "      <td>4</td>\n",
       "      <td>ἀγγέλων</td>\n",
       "      <td>22.520727</td>\n",
       "      <td>-15.526992</td>\n",
       "    </tr>\n",
       "    <tr>\n",
       "      <td>5</td>\n",
       "      <td>ἀγάπην</td>\n",
       "      <td>10.831438</td>\n",
       "      <td>23.575706</td>\n",
       "    </tr>\n",
       "    <tr>\n",
       "      <td>6</td>\n",
       "      <td>ἔχω</td>\n",
       "      <td>15.530086</td>\n",
       "      <td>-15.725556</td>\n",
       "    </tr>\n",
       "    <tr>\n",
       "      <td>7</td>\n",
       "      <td>γέγονα</td>\n",
       "      <td>2.686630</td>\n",
       "      <td>-2.197969</td>\n",
       "    </tr>\n",
       "    <tr>\n",
       "      <td>8</td>\n",
       "      <td>πάντα</td>\n",
       "      <td>-0.698662</td>\n",
       "      <td>8.184798</td>\n",
       "    </tr>\n",
       "    <tr>\n",
       "      <td>9</td>\n",
       "      <td>πᾶσαν</td>\n",
       "      <td>-6.007385</td>\n",
       "      <td>15.231083</td>\n",
       "    </tr>\n",
       "  </tbody>\n",
       "</table>\n",
       "</div>"
      ],
      "text/plain": [
       "       word          x          y\n",
       "0      ταῖς  -5.560443 -17.311518\n",
       "1  γλώσσαις -23.244184 -11.922071\n",
       "2  ἀνθρώπων   8.691706 -23.756657\n",
       "3      λαλῶ  18.224779 -14.906912\n",
       "4   ἀγγέλων  22.520727 -15.526992\n",
       "5    ἀγάπην  10.831438  23.575706\n",
       "6       ἔχω  15.530086 -15.725556\n",
       "7    γέγονα   2.686630  -2.197969\n",
       "8     πάντα  -0.698662   8.184798\n",
       "9     πᾶσαν  -6.007385  15.231083"
      ]
     },
     "execution_count": 52,
     "metadata": {},
     "output_type": "execute_result"
    }
   ],
   "source": [
    "points.head(10)"
   ]
  },
  {
   "cell_type": "code",
   "execution_count": 53,
   "metadata": {},
   "outputs": [],
   "source": [
    "#plot\n",
    "sns.set_context(\"poster\")"
   ]
  },
  {
   "cell_type": "code",
   "execution_count": 54,
   "metadata": {},
   "outputs": [
    {
     "data": {
      "text/plain": [
       "<matplotlib.axes._subplots.AxesSubplot at 0x1a261cba90>"
      ]
     },
     "execution_count": 54,
     "metadata": {},
     "output_type": "execute_result"
    },
    {
     "data": {
      "image/png": "[encoded data removed]",
      "text/plain": [
       "<Figure size 1440x864 with 1 Axes>"
      ]
     },
     "metadata": {
      "needs_background": "light"
     },
     "output_type": "display_data"
    }
   ],
   "source": [
    "points.plot.scatter(\"x\", \"y\", s=10, figsize=(20, 12))"
   ]
  },
  {
   "cell_type": "code",
   "execution_count": 55,
   "metadata": {},
   "outputs": [],
   "source": [
    "# this code zooms in to a part of the scatter plot\n",
    "def plot_region(x_bounds, y_bounds):\n",
    "    slice = points[\n",
    "        (x_bounds[0] <= points.x) &\n",
    "        (points.x <= x_bounds[1]) & \n",
    "        (y_bounds[0] <= points.y) &\n",
    "        (points.y <= y_bounds[1])\n",
    "    ]\n",
    "    \n",
    "    ax = slice.plot.scatter(\"x\", \"y\", s=35, figsize=(10, 8))\n",
    "    for i, point in slice.iterrows():\n",
    "        ax.text(point.x + 0.005, point.y + 0.005, point.word, fontsize=11)"
   ]
  },
  {
   "cell_type": "code",
   "execution_count": null,
   "metadata": {},
   "outputs": [],
   "source": [
    "# example coordinates for a particular region, the two numbers in the x_bounds and y_bounds are the parameters\n",
    "plot_region(x_bounds=(0, 5), y_bounds=(0, --5))"
   ]
  },
  {
   "cell_type": "code",
   "execution_count": null,
   "metadata": {},
   "outputs": [],
   "source": [
    "# example coordinates for another region\n",
    "plot_region(x_bounds=(0, --10), y_bounds=(4, 4.5))"
   ]
  },
  {
   "cell_type": "markdown",
   "metadata": {},
   "source": [
    "## Functions"
   ]
  },
  {
   "cell_type": "code",
   "execution_count": 60,
   "metadata": {},
   "outputs": [
    {
     "data": {
      "text/plain": [
       "[('γέγονα', 0.6880865693092346),\n",
       " ('μνείαν', 0.6548277735710144),\n",
       " ('γνῶσιν', 0.6149656772613525),\n",
       " ('πρότερον', 0.6063517332077026),\n",
       " ('σοῦ', 0.5759945511817932),\n",
       " ('λαλῶ', 0.5564455986022949),\n",
       " ('ἀγάπην', 0.542931318283081),\n",
       " ('ὄντα', 0.5365986824035645),\n",
       " ('σπούδασον', 0.5127383470535278),\n",
       " ('ἀδελφόν', 0.5084431171417236)]"
      ]
     },
     "execution_count": 60,
     "metadata": {},
     "output_type": "execute_result"
    }
   ],
   "source": [
    "# example function, computes the cosine similarity of the vectors\n",
    "greek2vec.wv.most_similar(u\"ἔχω\")"
   ]
  },
  {
   "cell_type": "code",
   "execution_count": 61,
   "metadata": {},
   "outputs": [],
   "source": [
    "#distance, similarity, and ranking\n",
    "def nearest_similarity_cosmul(start1, end1, end2):\n",
    "    similarities = thrones2vec.wv.most_similar_cosmul(\n",
    "        positive=[end2, start1],\n",
    "        negative=[end1]\n",
    "    )\n",
    "    start2 = similarities[0][0]\n",
    "    print(\"{start1} is related to {end1}, as {start2} is related to {end2}\".format(**locals()))\n",
    "    return start2"
   ]
  },
  {
   "cell_type": "code",
   "execution_count": 55,
   "metadata": {},
   "outputs": [
    {
     "name": "stdout",
     "output_type": "stream",
     "text": [
      "Stark is related to Winterfell, as Tully is related to Riverrun\n",
      "Jaime is related to sword, as strongwine is related to wine\n",
      "Arya is related to Nymeria, as Pay is related to dragons\n"
     ]
    },
    {
     "data": {
      "text/plain": [
       "'Pay'"
      ]
     },
     "execution_count": 55,
     "metadata": {},
     "output_type": "execute_result"
    }
   ],
   "source": [
    "nearest_similarity_cosmul(\"Stark\", \"Winterfell\", \"Riverrun\")\n",
    "nearest_similarity_cosmul(\"Jaime\", \"sword\", \"wine\")\n",
    "nearest_similarity_cosmul(\"Arya\", \"Nymeria\", \"dragons\")"
   ]
  }
 ],
 "metadata": {
  "kernelspec": {
   "display_name": "Python 3",
   "language": "python",
   "name": "python3"
  },
  "language_info": {
   "codemirror_mode": {
    "name": "ipython",
    "version": 3
   },
   "file_extension": ".py",
   "mimetype": "text/x-python",
   "name": "python",
   "nbconvert_exporter": "python",
   "pygments_lexer": "ipython3",
   "version": "3.7.4"
  }
 },
 "nbformat": 4,
 "nbformat_minor": 2
}

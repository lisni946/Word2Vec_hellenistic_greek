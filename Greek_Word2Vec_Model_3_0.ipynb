{
  "nbformat": 4,
  "nbformat_minor": 0,
  "metadata": {
    "colab": {
      "name": "Greek Word2Vec Model 3.0.ipynb",
      "provenance": [],
      "collapsed_sections": [],
      "include_colab_link": true
    },
    "kernelspec": {
      "display_name": "Python 3",
      "language": "python",
      "name": "python3"
    },
    "language_info": {
      "codemirror_mode": {
        "name": "ipython",
        "version": 3
      },
      "file_extension": ".py",
      "mimetype": "text/x-python",
      "name": "python",
      "nbconvert_exporter": "python",
      "pygments_lexer": "ipython3",
      "version": "3.7.4"
    }
  },
  "cells": [
    {
      "cell_type": "markdown",
      "metadata": {
        "id": "view-in-github",
        "colab_type": "text"
      },
      "source": [
        "<a href=\"https://colab.research.google.com/github/lisni946/Word2Vec_hellenistic_greek/blob/master/Greek_Word2Vec_Model_3_0.ipynb\" target=\"_parent\"><img src=\"https://colab.research.google.com/assets/colab-badge.svg\" alt=\"Open In Colab\"/></a>"
      ]
    },
    {
      "cell_type": "markdown",
      "metadata": {
        "colab_type": "text",
        "id": "Uu0ylrc-yPGN"
      },
      "source": [
        "Installation of Libraries and Importing Libraries"
      ]
    },
    {
      "cell_type": "code",
      "metadata": {
        "id": "QG07cOa_iHx-",
        "colab_type": "code",
        "colab": {}
      },
      "source": [
        "!pip install -q tf-nightly\n",
        "!pip install --upgrade tensorflow"
      ],
      "execution_count": 0,
      "outputs": []
    },
    {
      "cell_type": "code",
      "metadata": {
        "id": "79titTYaiHyM",
        "colab_type": "code",
        "colab": {}
      },
      "source": [
        ""
      ],
      "execution_count": 0,
      "outputs": []
    },
    {
      "cell_type": "code",
      "metadata": {
        "colab_type": "code",
        "id": "PYaUALZXYjGk",
        "scrolled": true,
        "colab": {}
      },
      "source": [
        "\n",
        "import tensorflow as tf\n",
        "from tensorflow import keras\n",
        "from tensorflow.keras import layers\n",
        "\n",
        "import tensorflow_datasets as tfds\n",
        "tfds.disable_progress_bar()"
      ],
      "execution_count": 0,
      "outputs": []
    },
    {
      "cell_type": "code",
      "metadata": {
        "id": "X7UHguM5iHyd",
        "colab_type": "code",
        "colab": {}
      },
      "source": [
        ""
      ],
      "execution_count": 0,
      "outputs": []
    },
    {
      "cell_type": "code",
      "metadata": {
        "id": "OmjEWosXiHyn",
        "colab_type": "code",
        "colab": {}
      },
      "source": [
        "# !pip install google.colab"
      ],
      "execution_count": 0,
      "outputs": []
    },
    {
      "cell_type": "markdown",
      "metadata": {
        "colab_type": "text",
        "id": "UBFohxm8yo5c"
      },
      "source": [
        "Load Text data "
      ]
    },
    {
      "cell_type": "code",
      "metadata": {
        "colab_type": "code",
        "id": "ck-i7JjXGcMz",
        "colab": {}
      },
      "source": [
        "#import google.colab\n",
        "#from google.colab import drive\n",
        "#drive.mount('/content/drive')"
      ],
      "execution_count": 0,
      "outputs": []
    },
    {
      "cell_type": "code",
      "metadata": {
        "colab_type": "code",
        "id": "KsbpktcxoQKj",
        "colab": {}
      },
      "source": [
        "datatxt=tf.data.TextLineDataset('/Users/christinaoaks/Desktop/Nick/output.txt')  #(drive/My Drive/output.txt')"
      ],
      "execution_count": 0,
      "outputs": []
    },
    {
      "cell_type": "code",
      "metadata": {
        "id": "_72dZ1p8iHy8",
        "colab_type": "code",
        "colab": {
          "base_uri": "https://localhost:8080/",
          "height": 34
        },
        "outputId": "0c0f85ff-8f4f-41ef-d7e5-6394965bd047"
      },
      "source": [
        "print(datatxt)"
      ],
      "execution_count": 3,
      "outputs": [
        {
          "output_type": "stream",
          "text": [
            "<TextLineDatasetV2 shapes: (), types: tf.string>\n"
          ],
          "name": "stdout"
        }
      ]
    },
    {
      "cell_type": "code",
      "metadata": {
        "colab_type": "code",
        "id": "_qQeaFIJvssn",
        "colab": {}
      },
      "source": [
        "BUFFER_SIZE=50000\n",
        "BATCH_SIZE=64\n",
        "TAKE_SIZE=5000"
      ],
      "execution_count": 0,
      "outputs": []
    },
    {
      "cell_type": "code",
      "metadata": {
        "colab_type": "code",
        "id": "fYXK6P9vph7p",
        "colab": {}
      },
      "source": [
        "def labeler(example,index):\n",
        "  return example,tf.cast(index,tf.int64)"
      ],
      "execution_count": 0,
      "outputs": []
    },
    {
      "cell_type": "code",
      "metadata": {
        "colab_type": "code",
        "id": "RO7L1t9IodEc",
        "colab": {}
      },
      "source": [
        "datatxt_processed=datatxt.map(lambda ex:labeler(ex,0))"
      ],
      "execution_count": 0,
      "outputs": []
    },
    {
      "cell_type": "markdown",
      "metadata": {
        "colab_type": "text",
        "id": "aO1Rqks9z3Z8"
      },
      "source": [
        "Encode text lines as numbers"
      ]
    },
    {
      "cell_type": "code",
      "metadata": {
        "colab_type": "code",
        "id": "bl40Rhgwnbb8",
        "colab": {}
      },
      "source": [
        "tokenizer=tfds.features.text.Tokenizer()\n",
        "vocabulary_set=set()\n",
        "for text_tensor, _ in datatxt_processed:\n",
        "  some_tokens=tokenizer.tokenize(text_tensor.numpy())\n",
        "  vocabulary_set.update(some_tokens)"
      ],
      "execution_count": 0,
      "outputs": []
    },
    {
      "cell_type": "code",
      "metadata": {
        "colab_type": "code",
        "id": "X7TeVKNcq9rI",
        "outputId": "fed5b02b-b524-43ef-b05c-3b4825b3b022",
        "colab": {
          "base_uri": "https://localhost:8080/",
          "height": 34
        }
      },
      "source": [
        "vocab_size=len(vocabulary_set)\n",
        "vocab_size"
      ],
      "execution_count": 8,
      "outputs": [
        {
          "output_type": "execute_result",
          "data": {
            "text/plain": [
              "92377"
            ]
          },
          "metadata": {
            "tags": []
          },
          "execution_count": 8
        }
      ]
    },
    {
      "cell_type": "code",
      "metadata": {
        "colab_type": "code",
        "id": "SsW7vuCVsEuo",
        "colab": {}
      },
      "source": [
        "encoder=tfds.features.text.TokenTextEncoder(vocabulary_set)\n",
        "def encode(text_tensor,label):\n",
        "  encoded_text=encoder.encode(text_tensor.numpy())\n",
        "  return encoded_text, label\n",
        "\n",
        "  \n",
        "def encode_map_fn(text,label):\n",
        "  encoded_text,label=tf.py_function(encode,\n",
        "                                    inp=[text,label],\n",
        "                                    Tout=(tf.int64,tf.int64))\n",
        "  encoded_text.set_shape([None])\n",
        "  label.set_shape([])\n",
        "\n",
        "  return encoded_text, label"
      ],
      "execution_count": 0,
      "outputs": []
    },
    {
      "cell_type": "code",
      "metadata": {
        "colab_type": "code",
        "id": "dUrqk3YYtnEZ",
        "colab": {}
      },
      "source": [
        "datatxt_processed=datatxt_processed.shuffle(BUFFER_SIZE,reshuffle_each_iteration=False)\n",
        "encoded_data=datatxt_processed.map(encode_map_fn)"
      ],
      "execution_count": 0,
      "outputs": []
    },
    {
      "cell_type": "markdown",
      "metadata": {
        "colab_type": "text",
        "id": "7Q0rfxpg0050"
      },
      "source": [
        "Split the dataset into test and train batches"
      ]
    },
    {
      "cell_type": "code",
      "metadata": {
        "colab_type": "code",
        "id": "xpf6lpFguOVV",
        "colab": {}
      },
      "source": [
        "train_data=encoded_data.skip(TAKE_SIZE).shuffle(BUFFER_SIZE)\n",
        "train_data=train_data.padded_batch(BATCH_SIZE,padded_shapes=([None],[]))\n",
        "\n",
        "test_data=encoded_data.take(TAKE_SIZE)\n",
        "test_data = test_data.padded_batch(BATCH_SIZE,padded_shapes=([None],[]))"
      ],
      "execution_count": 0,
      "outputs": []
    },
    {
      "cell_type": "code",
      "metadata": {
        "colab_type": "code",
        "id": "OZfHY57Guvg9",
        "colab": {}
      },
      "source": [
        "train_data = encoded_data.skip(TAKE_SIZE).shuffle(BUFFER_SIZE)\n",
        "train_data = train_data.padded_batch(BATCH_SIZE, padded_shapes=([None],[]))\n",
        "\n",
        "test_data = encoded_data.take(TAKE_SIZE)\n",
        "test_data = test_data.padded_batch(BATCH_SIZE, padded_shapes=([None],[]))"
      ],
      "execution_count": 0,
      "outputs": []
    },
    {
      "cell_type": "code",
      "metadata": {
        "colab_type": "code",
        "id": "6EIey4zHz9-C",
        "colab": {}
      },
      "source": [
        "vocab_size += 1"
      ],
      "execution_count": 0,
      "outputs": []
    },
    {
      "cell_type": "markdown",
      "metadata": {
        "colab_type": "text",
        "id": "v-E3HwMh1nz2"
      },
      "source": [
        "Create a keras model"
      ]
    },
    {
      "cell_type": "code",
      "metadata": {
        "colab_type": "code",
        "id": "N81kXSrNyz-Y",
        "colab": {}
      },
      "source": [
        "model=tf.keras.Sequential()\n",
        "model.add(tf.keras.layers.Embedding(vocab_size,64))\n",
        "model.add(tf.keras.layers.Bidirectional(tf.keras.layers.LSTM(64)))\n",
        "model.add(tf.keras.layers.Dense(64,activation='relu'))\n",
        "model.add(tf.keras.layers.Dense(64,activation='relu'))\n",
        "model.add(tf.keras.layers.Dense(1))  "
      ],
      "execution_count": 0,
      "outputs": []
    },
    {
      "cell_type": "code",
      "metadata": {
        "colab_type": "code",
        "id": "vl-MiMQYSNR6",
        "outputId": "7e576da9-3c56-4fd8-e5c4-fd0b6a67fa41",
        "colab": {
          "base_uri": "https://localhost:8080/",
          "height": 1000
        }
      },
      "source": [
        "model.compile(optimizer='adam',\n",
        "              loss=tf.keras.losses.BinaryCrossentropy(from_logits=True),\n",
        "              metrics=['accuracy'])\n",
        "\n",
        "history=model.fit(train_data, epochs=100, validation_data=test_data)"
      ],
      "execution_count": 15,
      "outputs": [
        {
          "output_type": "stream",
          "text": [
            "Epoch 1/100\n",
            "4818/4818 [==============================] - 599s 124ms/step - loss: 0.0015 - accuracy: 1.0000 - val_loss: 3.1025e-09 - val_accuracy: 1.0000\n",
            "Epoch 2/100\n",
            "4818/4818 [==============================] - 599s 124ms/step - loss: 1.8276e-09 - accuracy: 1.0000 - val_loss: 8.3906e-10 - val_accuracy: 1.0000\n",
            "Epoch 3/100\n",
            "4818/4818 [==============================] - 577s 120ms/step - loss: 4.2099e-10 - accuracy: 1.0000 - val_loss: 1.8171e-10 - val_accuracy: 1.0000\n",
            "Epoch 4/100\n",
            "4818/4818 [==============================] - 2076s 431ms/step - loss: 9.8908e-11 - accuracy: 1.0000 - val_loss: 4.9413e-11 - val_accuracy: 1.0000\n",
            "Epoch 5/100\n",
            "4818/4818 [==============================] - 632s 131ms/step - loss: 2.9685e-11 - accuracy: 1.0000 - val_loss: 1.7441e-11 - val_accuracy: 1.0000\n",
            "Epoch 6/100\n",
            "4818/4818 [==============================] - 628s 130ms/step - loss: 1.2162e-11 - accuracy: 1.0000 - val_loss: 8.7697e-12 - val_accuracy: 1.0000\n",
            "Epoch 7/100\n",
            "4818/4818 [==============================] - 630s 131ms/step - loss: 6.9434e-12 - accuracy: 1.0000 - val_loss: 5.6739e-12 - val_accuracy: 1.0000\n",
            "Epoch 8/100\n",
            "4818/4818 [==============================] - 615s 128ms/step - loss: 4.8033e-12 - accuracy: 1.0000 - val_loss: 4.1680e-12 - val_accuracy: 1.0000\n",
            "Epoch 9/100\n",
            "4818/4818 [==============================] - 580s 120ms/step - loss: 3.6583e-12 - accuracy: 1.0000 - val_loss: 3.2881e-12 - val_accuracy: 1.0000\n",
            "Epoch 10/100\n",
            "4818/4818 [==============================] - 608s 126ms/step - loss: 2.9581e-12 - accuracy: 1.0000 - val_loss: 2.7170e-12 - val_accuracy: 1.0000\n",
            "Epoch 11/100\n",
            "4818/4818 [==============================] - 591s 123ms/step - loss: 2.4839e-12 - accuracy: 1.0000 - val_loss: 2.3179e-12 - val_accuracy: 1.0000\n",
            "Epoch 12/100\n",
            "4818/4818 [==============================] - 613s 127ms/step - loss: 2.1435e-12 - accuracy: 1.0000 - val_loss: 2.0212e-12 - val_accuracy: 1.0000\n",
            "Epoch 13/100\n",
            "4818/4818 [==============================] - 611s 127ms/step - loss: 1.8863e-12 - accuracy: 1.0000 - val_loss: 1.7947e-12 - val_accuracy: 1.0000\n",
            "Epoch 14/100\n",
            "4818/4818 [==============================] - 607s 126ms/step - loss: 1.6864e-12 - accuracy: 1.0000 - val_loss: 1.6138e-12 - val_accuracy: 1.0000\n",
            "Epoch 15/100\n",
            "4818/4818 [==============================] - 620s 129ms/step - loss: 1.5239e-12 - accuracy: 1.0000 - val_loss: 1.4686e-12 - val_accuracy: 1.0000\n",
            "Epoch 16/100\n",
            "4818/4818 [==============================] - 612s 127ms/step - loss: 1.3943e-12 - accuracy: 1.0000 - val_loss: 1.3477e-12 - val_accuracy: 1.0000\n",
            "Epoch 17/100\n",
            "4818/4818 [==============================] - 657s 136ms/step - loss: 1.2846e-12 - accuracy: 1.0000 - val_loss: 1.2456e-12 - val_accuracy: 1.0000\n",
            "Epoch 18/100\n",
            "4818/4818 [==============================] - 618s 128ms/step - loss: 1.1908e-12 - accuracy: 1.0000 - val_loss: 1.1583e-12 - val_accuracy: 1.0000\n",
            "Epoch 19/100\n",
            "4818/4818 [==============================] - 614s 127ms/step - loss: 1.1092e-12 - accuracy: 1.0000 - val_loss: 1.0825e-12 - val_accuracy: 1.0000\n",
            "Epoch 20/100\n",
            "4818/4818 [==============================] - 608s 126ms/step - loss: 1.0394e-12 - accuracy: 1.0000 - val_loss: 1.0161e-12 - val_accuracy: 1.0000\n",
            "Epoch 21/100\n",
            "4818/4818 [==============================] - 3015s 626ms/step - loss: 9.7798e-13 - accuracy: 1.0000 - val_loss: 9.5804e-13 - val_accuracy: 1.0000\n",
            "Epoch 22/100\n",
            "4818/4818 [==============================] - 41019s 9s/step - loss: 9.2332e-13 - accuracy: 1.0000 - val_loss: 9.0611e-13 - val_accuracy: 1.0000\n",
            "Epoch 23/100\n",
            "4818/4818 [==============================] - 2719s 564ms/step - loss: 8.7642e-13 - accuracy: 1.0000 - val_loss: 8.6069e-13 - val_accuracy: 1.0000\n",
            "Epoch 24/100\n",
            "4818/4818 [==============================] - 616s 128ms/step - loss: 8.3172e-13 - accuracy: 1.0000 - val_loss: 8.2025e-13 - val_accuracy: 1.0000\n",
            "Epoch 25/100\n",
            "4818/4818 [==============================] - 4352s 903ms/step - loss: 7.9438e-13 - accuracy: 1.0000 - val_loss: 7.8302e-13 - val_accuracy: 1.0000\n",
            "Epoch 26/100\n",
            "4818/4818 [==============================] - 907s 188ms/step - loss: 7.5859e-13 - accuracy: 1.0000 - val_loss: 7.4864e-13 - val_accuracy: 1.0000\n",
            "Epoch 27/100\n",
            "4818/4818 [==============================] - 600s 125ms/step - loss: 7.2541e-13 - accuracy: 1.0000 - val_loss: 7.1733e-13 - val_accuracy: 1.0000\n",
            "Epoch 28/100\n",
            "4818/4818 [==============================] - 606s 126ms/step - loss: 6.9620e-13 - accuracy: 1.0000 - val_loss: 6.8936e-13 - val_accuracy: 1.0000\n",
            "Epoch 29/100\n",
            "4818/4818 [==============================] - 617s 128ms/step - loss: 6.7078e-13 - accuracy: 1.0000 - val_loss: 6.6354e-13 - val_accuracy: 1.0000\n",
            "Epoch 30/100\n",
            "4818/4818 [==============================] - 606s 126ms/step - loss: 6.4507e-13 - accuracy: 1.0000 - val_loss: 6.3994e-13 - val_accuracy: 1.0000\n",
            "Epoch 31/100\n",
            "4818/4818 [==============================] - 614s 127ms/step - loss: 6.2289e-13 - accuracy: 1.0000 - val_loss: 6.1819e-13 - val_accuracy: 1.0000\n",
            "Epoch 32/100\n",
            "4818/4818 [==============================] - 613s 127ms/step - loss: 6.0255e-13 - accuracy: 1.0000 - val_loss: 5.9826e-13 - val_accuracy: 1.0000\n",
            "Epoch 33/100\n",
            "4818/4818 [==============================] - 606s 126ms/step - loss: 5.8361e-13 - accuracy: 1.0000 - val_loss: 5.7978e-13 - val_accuracy: 1.0000\n",
            "Epoch 34/100\n",
            "4818/4818 [==============================] - 623s 129ms/step - loss: 5.6575e-13 - accuracy: 1.0000 - val_loss: 5.6240e-13 - val_accuracy: 1.0000\n",
            "Epoch 35/100\n",
            "4818/4818 [==============================] - 613s 127ms/step - loss: 5.4880e-13 - accuracy: 1.0000 - val_loss: 5.4595e-13 - val_accuracy: 1.0000\n",
            "Epoch 36/100\n",
            "4818/4818 [==============================] - 618s 128ms/step - loss: 5.3330e-13 - accuracy: 1.0000 - val_loss: 5.3078e-13 - val_accuracy: 1.0000\n",
            "Epoch 37/100\n",
            "4818/4818 [==============================] - 616s 128ms/step - loss: 5.1858e-13 - accuracy: 1.0000 - val_loss: 5.1660e-13 - val_accuracy: 1.0000\n",
            "Epoch 38/100\n",
            "4818/4818 [==============================] - 594s 123ms/step - loss: 5.0560e-13 - accuracy: 1.0000 - val_loss: 5.0297e-13 - val_accuracy: 1.0000\n",
            "Epoch 39/100\n",
            "4818/4818 [==============================] - 606s 126ms/step - loss: 4.9144e-13 - accuracy: 1.0000 - val_loss: 4.8998e-13 - val_accuracy: 1.0000\n",
            "Epoch 40/100\n",
            "4818/4818 [==============================] - 620s 129ms/step - loss: 4.7920e-13 - accuracy: 1.0000 - val_loss: 4.7763e-13 - val_accuracy: 1.0000\n",
            "Epoch 41/100\n",
            "4818/4818 [==============================] - 636s 132ms/step - loss: 4.6700e-13 - accuracy: 1.0000 - val_loss: 4.6600e-13 - val_accuracy: 1.0000\n",
            "Epoch 42/100\n",
            "4818/4818 [==============================] - 635s 132ms/step - loss: 4.5592e-13 - accuracy: 1.0000 - val_loss: 4.5510e-13 - val_accuracy: 1.0000\n",
            "Epoch 43/100\n",
            "4818/4818 [==============================] - 635s 132ms/step - loss: 4.4508e-13 - accuracy: 1.0000 - val_loss: 4.4482e-13 - val_accuracy: 1.0000\n",
            "Epoch 44/100\n",
            "4818/4818 [==============================] - 625s 130ms/step - loss: 4.3527e-13 - accuracy: 1.0000 - val_loss: 4.3495e-13 - val_accuracy: 1.0000\n",
            "Epoch 45/100\n",
            "4818/4818 [==============================] - 638s 132ms/step - loss: 4.2705e-13 - accuracy: 1.0000 - val_loss: 4.2567e-13 - val_accuracy: 1.0000\n",
            "Epoch 46/100\n",
            "4818/4818 [==============================] - 636s 132ms/step - loss: 4.1723e-13 - accuracy: 1.0000 - val_loss: 4.1694e-13 - val_accuracy: 1.0000\n",
            "Epoch 47/100\n",
            "4818/4818 [==============================] - 636s 132ms/step - loss: 4.0878e-13 - accuracy: 1.0000 - val_loss: 4.0851e-13 - val_accuracy: 1.0000\n",
            "Epoch 48/100\n",
            "4818/4818 [==============================] - 638s 132ms/step - loss: 4.0057e-13 - accuracy: 1.0000 - val_loss: 4.0036e-13 - val_accuracy: 1.0000\n",
            "Epoch 49/100\n",
            "4818/4818 [==============================] - 640s 133ms/step - loss: 3.9319e-13 - accuracy: 1.0000 - val_loss: 3.9261e-13 - val_accuracy: 1.0000\n",
            "Epoch 50/100\n",
            "4818/4818 [==============================] - 639s 133ms/step - loss: 3.8502e-13 - accuracy: 1.0000 - val_loss: 3.8524e-13 - val_accuracy: 1.0000\n",
            "Epoch 51/100\n",
            "4818/4818 [==============================] - 641s 133ms/step - loss: 3.7779e-13 - accuracy: 1.0000 - val_loss: 3.7811e-13 - val_accuracy: 1.0000\n",
            "Epoch 52/100\n",
            "4818/4818 [==============================] - 653s 135ms/step - loss: 3.7102e-13 - accuracy: 1.0000 - val_loss: 3.7116e-13 - val_accuracy: 1.0000\n",
            "Epoch 53/100\n",
            "4818/4818 [==============================] - 643s 133ms/step - loss: 3.6426e-13 - accuracy: 1.0000 - val_loss: 3.6445e-13 - val_accuracy: 1.0000\n",
            "Epoch 54/100\n",
            "4818/4818 [==============================] - 642s 133ms/step - loss: 3.5756e-13 - accuracy: 1.0000 - val_loss: 3.5795e-13 - val_accuracy: 1.0000\n",
            "Epoch 55/100\n",
            "4818/4818 [==============================] - 634s 132ms/step - loss: 3.5148e-13 - accuracy: 1.0000 - val_loss: 3.5161e-13 - val_accuracy: 1.0000\n",
            "Epoch 56/100\n",
            "4818/4818 [==============================] - 611s 127ms/step - loss: 3.4517e-13 - accuracy: 1.0000 - val_loss: 3.4542e-13 - val_accuracy: 1.0000\n",
            "Epoch 57/100\n",
            "4818/4818 [==============================] - 5153s 1s/step - loss: 3.3900e-13 - accuracy: 1.0000 - val_loss: 3.3937e-13 - val_accuracy: 1.0000\n",
            "Epoch 58/100\n",
            "4818/4818 [==============================] - 629s 131ms/step - loss: 3.3318e-13 - accuracy: 1.0000 - val_loss: 3.3350e-13 - val_accuracy: 1.0000\n",
            "Epoch 59/100\n",
            "4818/4818 [==============================] - 627s 130ms/step - loss: 3.2750e-13 - accuracy: 1.0000 - val_loss: 3.2782e-13 - val_accuracy: 1.0000\n",
            "Epoch 60/100\n",
            "4818/4818 [==============================] - 640s 133ms/step - loss: 3.2197e-13 - accuracy: 1.0000 - val_loss: 3.2231e-13 - val_accuracy: 1.0000\n",
            "Epoch 61/100\n",
            "4818/4818 [==============================] - 642s 133ms/step - loss: 3.1646e-13 - accuracy: 1.0000 - val_loss: 3.1695e-13 - val_accuracy: 1.0000\n",
            "Epoch 62/100\n",
            "4818/4818 [==============================] - 636s 132ms/step - loss: 3.1121e-13 - accuracy: 1.0000 - val_loss: 3.1173e-13 - val_accuracy: 1.0000\n",
            "Epoch 63/100\n",
            "4818/4818 [==============================] - 614s 127ms/step - loss: 3.0687e-13 - accuracy: 1.0000 - val_loss: 3.0661e-13 - val_accuracy: 1.0000\n",
            "Epoch 64/100\n",
            "4818/4818 [==============================] - 611s 127ms/step - loss: 3.0115e-13 - accuracy: 1.0000 - val_loss: 3.0160e-13 - val_accuracy: 1.0000\n",
            "Epoch 65/100\n",
            "4818/4818 [==============================] - 613s 127ms/step - loss: 2.9620e-13 - accuracy: 1.0000 - val_loss: 2.9676e-13 - val_accuracy: 1.0000\n",
            "Epoch 66/100\n",
            "4818/4818 [==============================] - 611s 127ms/step - loss: 2.9169e-13 - accuracy: 1.0000 - val_loss: 2.9220e-13 - val_accuracy: 1.0000\n",
            "Epoch 67/100\n",
            "4818/4818 [==============================] - 614s 128ms/step - loss: 2.8722e-13 - accuracy: 1.0000 - val_loss: 2.8784e-13 - val_accuracy: 1.0000\n",
            "Epoch 68/100\n",
            "4818/4818 [==============================] - 617s 128ms/step - loss: 2.8298e-13 - accuracy: 1.0000 - val_loss: 2.8372e-13 - val_accuracy: 1.0000\n",
            "Epoch 69/100\n",
            "4818/4818 [==============================] - 615s 128ms/step - loss: 2.7907e-13 - accuracy: 1.0000 - val_loss: 2.7976e-13 - val_accuracy: 1.0000\n",
            "Epoch 70/100\n",
            "4818/4818 [==============================] - 617s 128ms/step - loss: 2.7491e-13 - accuracy: 1.0000 - val_loss: 2.7595e-13 - val_accuracy: 1.0000\n",
            "Epoch 71/100\n",
            "4818/4818 [==============================] - 620s 129ms/step - loss: 2.7150e-13 - accuracy: 1.0000 - val_loss: 2.7220e-13 - val_accuracy: 1.0000\n",
            "Epoch 72/100\n",
            "4818/4818 [==============================] - 648s 135ms/step - loss: 2.6767e-13 - accuracy: 1.0000 - val_loss: 2.6856e-13 - val_accuracy: 1.0000\n",
            "Epoch 73/100\n",
            "4818/4818 [==============================] - 651s 135ms/step - loss: 2.6452e-13 - accuracy: 1.0000 - val_loss: 2.6505e-13 - val_accuracy: 1.0000\n",
            "Epoch 74/100\n",
            "4818/4818 [==============================] - 651s 135ms/step - loss: 2.6081e-13 - accuracy: 1.0000 - val_loss: 2.6165e-13 - val_accuracy: 1.0000\n",
            "Epoch 75/100\n",
            "4818/4818 [==============================] - 650s 135ms/step - loss: 2.5741e-13 - accuracy: 1.0000 - val_loss: 2.5833e-13 - val_accuracy: 1.0000\n",
            "Epoch 76/100\n",
            "4818/4818 [==============================] - 633s 131ms/step - loss: 2.5424e-13 - accuracy: 1.0000 - val_loss: 2.5508e-13 - val_accuracy: 1.0000\n",
            "Epoch 77/100\n",
            "4818/4818 [==============================] - 633s 131ms/step - loss: 2.5114e-13 - accuracy: 1.0000 - val_loss: 2.5189e-13 - val_accuracy: 1.0000\n",
            "Epoch 78/100\n",
            "4818/4818 [==============================] - 645s 134ms/step - loss: 2.4794e-13 - accuracy: 1.0000 - val_loss: 2.4877e-13 - val_accuracy: 1.0000\n",
            "Epoch 79/100\n",
            "4818/4818 [==============================] - 645s 134ms/step - loss: 2.4474e-13 - accuracy: 1.0000 - val_loss: 2.4571e-13 - val_accuracy: 1.0000\n",
            "Epoch 80/100\n",
            "4818/4818 [==============================] - 649s 135ms/step - loss: 2.4176e-13 - accuracy: 1.0000 - val_loss: 2.4269e-13 - val_accuracy: 1.0000\n",
            "Epoch 81/100\n",
            "4818/4818 [==============================] - 639s 133ms/step - loss: 2.3885e-13 - accuracy: 1.0000 - val_loss: 2.3975e-13 - val_accuracy: 1.0000\n",
            "Epoch 82/100\n",
            "4818/4818 [==============================] - 647s 134ms/step - loss: 2.3589e-13 - accuracy: 1.0000 - val_loss: 2.3688e-13 - val_accuracy: 1.0000\n",
            "Epoch 83/100\n",
            "4818/4818 [==============================] - 646s 134ms/step - loss: 2.3324e-13 - accuracy: 1.0000 - val_loss: 2.3415e-13 - val_accuracy: 1.0000\n",
            "Epoch 84/100\n",
            "4818/4818 [==============================] - 645s 134ms/step - loss: 2.3056e-13 - accuracy: 1.0000 - val_loss: 2.3152e-13 - val_accuracy: 1.0000\n",
            "Epoch 85/100\n",
            "4818/4818 [==============================] - 641s 133ms/step - loss: 2.2793e-13 - accuracy: 1.0000 - val_loss: 2.2899e-13 - val_accuracy: 1.0000\n",
            "Epoch 86/100\n",
            "4818/4818 [==============================] - 642s 133ms/step - loss: 2.2547e-13 - accuracy: 1.0000 - val_loss: 2.2651e-13 - val_accuracy: 1.0000\n",
            "Epoch 87/100\n",
            "4818/4818 [==============================] - 642s 133ms/step - loss: 2.3270e-13 - accuracy: 1.0000 - val_loss: 2.2396e-13 - val_accuracy: 1.0000\n",
            "Epoch 88/100\n",
            "4818/4818 [==============================] - 623s 129ms/step - loss: 2.2061e-13 - accuracy: 1.0000 - val_loss: 2.2157e-13 - val_accuracy: 1.0000\n",
            "Epoch 89/100\n",
            "4818/4818 [==============================] - 638s 132ms/step - loss: 2.1857e-13 - accuracy: 1.0000 - val_loss: 2.1921e-13 - val_accuracy: 1.0000\n",
            "Epoch 90/100\n",
            "4818/4818 [==============================] - 644s 134ms/step - loss: 2.1597e-13 - accuracy: 1.0000 - val_loss: 2.1688e-13 - val_accuracy: 1.0000\n",
            "Epoch 91/100\n",
            "4818/4818 [==============================] - 643s 134ms/step - loss: 2.1360e-13 - accuracy: 1.0000 - val_loss: 2.1458e-13 - val_accuracy: 1.0000\n",
            "Epoch 92/100\n",
            "4818/4818 [==============================] - 674s 140ms/step - loss: 2.1133e-13 - accuracy: 1.0000 - val_loss: 2.1231e-13 - val_accuracy: 1.0000\n",
            "Epoch 93/100\n",
            "4818/4818 [==============================] - 670s 139ms/step - loss: 2.0964e-13 - accuracy: 1.0000 - val_loss: 2.1006e-13 - val_accuracy: 1.0000\n",
            "Epoch 94/100\n",
            "4818/4818 [==============================] - 672s 140ms/step - loss: 2.0703e-13 - accuracy: 1.0000 - val_loss: 2.0795e-13 - val_accuracy: 1.0000\n",
            "Epoch 95/100\n",
            "4818/4818 [==============================] - 672s 140ms/step - loss: 2.0485e-13 - accuracy: 1.0000 - val_loss: 2.0591e-13 - val_accuracy: 1.0000\n",
            "Epoch 96/100\n",
            "4818/4818 [==============================] - 674s 140ms/step - loss: 2.0298e-13 - accuracy: 1.0000 - val_loss: 2.0393e-13 - val_accuracy: 1.0000\n",
            "Epoch 97/100\n",
            "4818/4818 [==============================] - 656s 136ms/step - loss: 2.0091e-13 - accuracy: 1.0000 - val_loss: 2.0202e-13 - val_accuracy: 1.0000\n",
            "Epoch 98/100\n",
            "4818/4818 [==============================] - 672s 139ms/step - loss: 1.9916e-13 - accuracy: 1.0000 - val_loss: 2.0017e-13 - val_accuracy: 1.0000\n",
            "Epoch 99/100\n",
            "4818/4818 [==============================] - 671s 139ms/step - loss: 1.9725e-13 - accuracy: 1.0000 - val_loss: 1.9838e-13 - val_accuracy: 1.0000\n",
            "Epoch 100/100\n",
            "4818/4818 [==============================] - 674s 140ms/step - loss: 1.9594e-13 - accuracy: 1.0000 - val_loss: 1.9663e-13 - val_accuracy: 1.0000\n"
          ],
          "name": "stdout"
        }
      ]
    },
    {
      "cell_type": "code",
      "metadata": {
        "colab_type": "code",
        "id": "Q6-AbQITSOoj",
        "outputId": "cbc4b6fa-3264-424f-a2d3-1f79c6deec3c",
        "colab": {
          "base_uri": "https://localhost:8080/",
          "height": 1000
        }
      },
      "source": [
        "import matplotlib\n",
        "import matplotlib.pyplot as plt\n",
        "\n",
        "history_dict = history.history\n",
        "\n",
        "acc = history_dict['accuracy']\n",
        "val_acc = history_dict['val_accuracy']\n",
        "loss=history_dict['loss']\n",
        "val_loss=history_dict['val_loss']\n",
        "\n",
        "epochs = range(1, len(acc) + 1)\n",
        "\n",
        "plt.figure(figsize=(12,9))\n",
        "plt.plot(epochs, loss, 'bo', label='Training loss')\n",
        "plt.plot(epochs, val_loss, 'b', label='Validation loss')\n",
        "plt.title('Training and validation loss')\n",
        "plt.xlabel('Epochs')\n",
        "plt.ylabel('Loss')\n",
        "plt.legend()\n",
        "plt.show()\n",
        "\n",
        "plt.figure(figsize=(12,9))\n",
        "plt.plot(epochs, acc, 'bo', label='Training acc')\n",
        "plt.plot(epochs, val_acc, 'b', label='Validation acc')\n",
        "plt.title('Training and validation accuracy')\n",
        "plt.xlabel('Epochs')\n",
        "plt.ylabel('Accuracy')\n",
        "plt.legend(loc='lower right')\n",
        "plt.ylim((0.5,1))\n",
        "plt.show()\n",
        "\n"
      ],
      "execution_count": 22,
      "outputs": [
        {
          "output_type": "display_data",
          "data": {
            "text/plain": [
              "<Figure size 864x648 with 1 Axes>"
            ],
            "image/png": "[encoded data removed]"
          },
          "metadata": {
            "tags": [],
            "needs_background": "light"
          }
        },
        {
          "output_type": "display_data",
          "data": {
            "text/plain": [
              "<Figure size 864x648 with 1 Axes>"
            ],
            "image/png": "[encoded data removed]"
          },
          "metadata": {
            "tags": [],
            "needs_background": "light"
          }
        }
      ]
    },
    {
      "cell_type": "code",
      "metadata": {
        "colab_type": "code",
        "id": "YZHw-sP1Szwo",
        "outputId": "37dbab9e-770d-4e9d-886b-6ae762ad4c95",
        "colab": {
          "base_uri": "https://localhost:8080/",
          "height": 34
        }
      },
      "source": [
        "e = model.layers[0]\n",
        "weights = e.get_weights()[0]\n",
        "print(weights.shape) # shape: (vocab_size, embedding_dim)"
      ],
      "execution_count": 23,
      "outputs": [
        {
          "output_type": "stream",
          "text": [
            "(92378, 64)\n"
          ],
          "name": "stdout"
        }
      ]
    },
    {
      "cell_type": "code",
      "metadata": {
        "id": "f5dBh9BRLwr5",
        "colab_type": "code",
        "colab": {}
      },
      "source": [
        "pip install matplotlib"
      ],
      "execution_count": 0,
      "outputs": []
    },
    {
      "cell_type": "code",
      "metadata": {
        "colab_type": "code",
        "id": "0uz9HJ63S_Co",
        "colab": {}
      },
      "source": [
        "import io\n",
        "\n",
        "\n",
        "out_v = io.open('vecs2.tsv', 'w', encoding='utf-8')\n",
        "out_m = io.open('meta2.tsv', 'w', encoding='utf-8')\n",
        "\n",
        "for num, word in enumerate(encoder.tokens):\n",
        "  vec = weights[num+1] # skip 0, it's padding.\n",
        "  out_m.write(word + \"\\n\")\n",
        "  out_v.write('\\t'.join([str(x) for x in vec]) + \"\\n\")\n",
        "out_v.close()\n",
        "out_m.close()"
      ],
      "execution_count": 0,
      "outputs": []
    },
    {
      "cell_type": "code",
      "metadata": {
        "colab_type": "code",
        "id": "g9IQfOfXUWdy",
        "outputId": "7db1dbdc-d5a5-4103-8900-9df90547573f",
        "colab": {
          "base_uri": "https://localhost:8080/",
          "height": 34
        }
      },
      "source": [
        ""
      ],
      "execution_count": 0,
      "outputs": [
        {
          "output_type": "execute_result",
          "data": {
            "text/plain": [
              "<MapDataset shapes: (None,), types: tf.string>"
            ]
          },
          "metadata": {
            "tags": []
          },
          "execution_count": 66
        }
      ]
    },
    {
      "cell_type": "code",
      "metadata": {
        "colab_type": "code",
        "id": "9Y9wPifaTAfn",
        "colab": {}
      },
      "source": [
        "##\n",
        "try:\n",
        "    from google.colab import files\n",
        "except ImportError:\n",
        "    pass\n",
        "else:\n",
        "    files.download('vecs.tsv')\n",
        "    files.download('meta.tsv')\n",
        "##"
      ],
      "execution_count": 0,
      "outputs": []
    },
    {
      "cell_type": "code",
      "metadata": {
        "id": "LUqh17cAiH0n",
        "colab_type": "code",
        "colab": {}
      },
      "source": [
        ""
      ],
      "execution_count": 0,
      "outputs": []
    }
  ]
}
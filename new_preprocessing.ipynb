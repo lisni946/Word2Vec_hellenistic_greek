{
 "cells": [
  {
   "cell_type": "code",
   "execution_count": 1,
   "metadata": {},
   "outputs": [],
   "source": [
    "# pip install cltk"
   ]
  },
  {
   "cell_type": "code",
   "execution_count": 85,
   "metadata": {},
   "outputs": [
    {
     "name": "stdout",
     "output_type": "stream",
     "text": [
      "['αὐτὸς', 'αὐτός', 'γε', 'γὰρ', 'γάρ', \"δ'\", 'δαὶ', 'δαὶς', 'δαί', 'δαίς', 'διὰ', 'διά', 'δὲ', 'δέ', 'δὴ', 'δή', 'εἰ', 'εἰμὶ', 'εἰμί', 'εἰς', 'εἴμι', 'κατὰ', 'κατά', 'καὶ', 'καί', 'μετὰ', 'μετά', 'μὲν', 'μέν', 'μὴ', 'μή', 'οἱ', 'οὐ', 'οὐδεὶς', 'οὐδείς', 'οὐδὲ', 'οὐδέ', 'οὐκ', 'οὔτε', 'οὕτως', 'οὖν', 'οὗτος', 'παρὰ', 'παρά', 'περὶ', 'περί', 'πρὸς', 'πρός', 'σὸς', 'σός', 'σὺ', 'σὺν', 'σύ', 'σύν', 'τε', 'τι', 'τις', 'τοιοῦτος', 'τοὶ', 'τοί', 'τοὺς', 'τούς', 'τοῦ', 'τὰ', 'τά', 'τὴν', 'τήν', 'τὶ', 'τὶς', 'τί', 'τίς', 'τὸ', 'τὸν', 'τό', 'τόν', 'τῆς', 'τῇ', 'τῶν', 'τῷ', \"ἀλλ'\", 'ἀλλὰ', 'ἀλλά', 'ἀπὸ', 'ἀπό', 'ἂν', 'ἄλλος', 'ἄν', 'ἄρα', 'ἐγὼ', 'ἐγώ', 'ἐκ', 'ἐξ', 'ἐμὸς', 'ἐμός', 'ἐν', 'ἐπὶ', 'ἐπί', 'ἐὰν', 'ἐάν', 'ἑαυτοῦ', 'ἔτι', 'ἡ', 'ἢ', 'ἤ', 'ὁ', 'ὃδε', 'ὃς', 'ὅδε', 'ὅς', 'ὅστις', 'ὅτι', 'ὑμὸς', 'ὑμός', 'ὑπὲρ', 'ὑπέρ', 'ὑπὸ', 'ὑπό', 'ὡς', 'ὥστε', 'ὦ', 'ξύν', 'ξὺν', 'σύν', 'σὺν', 'τοῖς', 'τᾶς']\n"
     ]
    }
   ],
   "source": [
    "from cltk.corpus.greek.beta_to_unicode import Replacer\n",
    "from cltk.corpus.utils.formatter import tonos_oxia_converter\n",
    "from cltk.stop.greek.stops import STOPS_LIST\n",
    "from glob import glob\n",
    "from xml.etree.ElementTree import parse\n",
    "\n",
    "# print(STOPS_LIST)\n",
    "\n",
    "xml_files = glob('./xml-files/*.xml')\n",
    "replacer = Replacer()\n",
    "corpus = []\n",
    "for xml in xml_files:\n",
    "    with open(xml, 'r') as x:\n",
    "        tree = parse(x)\n",
    "        root = tree.getroot()\n",
    "        for sentence in root.iter('sentence'):\n",
    "            sentences = []\n",
    "            for word in sentence.iter('word'):\n",
    "                for lemma in word.iter('lemma'):\n",
    "                    entry = lemma.get('entry')\n",
    "                    if entry is None:\n",
    "                        entry = replacer.beta_code(word.get('form'))\n",
    "                        sentences.append(entry)\n",
    "                    elif tonos_oxia_converter(entry) not in STOPS_LIST:\n",
    "                        sentences.append(entry)\n",
    "            if len(sentences) > 0:\n",
    "                corpus.append(sentences)\n",
    "    x.close()\n",
    "\n",
    "# print(corpus)    \n",
    "    \n",
    "with open('output.txt', 'w') as f:\n",
    "    f.write('\\n'.join(str(c) for c in corpus))\n",
    "f.close()"
   ]
  },
  {
   "cell_type": "code",
   "execution_count": null,
   "metadata": {},
   "outputs": [],
   "source": []
  }
 ],
 "metadata": {
  "kernelspec": {
   "display_name": "Python 3",
   "language": "python",
   "name": "python3"
  },
  "language_info": {
   "codemirror_mode": {
    "name": "ipython",
    "version": 3
   },
   "file_extension": ".py",
   "mimetype": "text/x-python",
   "name": "python",
   "nbconvert_exporter": "python",
   "pygments_lexer": "ipython3",
   "version": "3.7.4"
  }
 },
 "nbformat": 4,
 "nbformat_minor": 2
}

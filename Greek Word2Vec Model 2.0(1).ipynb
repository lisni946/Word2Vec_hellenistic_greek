{
 "cells": [
  {
   "cell_type": "markdown",
   "metadata": {},
   "source": [
    "# Greek Word2Vec Model\n",
    "\n",
    "Version 2.0"
   ]
  },
  {
   "cell_type": "markdown",
   "metadata": {},
   "source": [
    "## Preprocessing"
   ]
  },
  {
   "cell_type": "code",
   "execution_count": 2,
   "metadata": {},
   "outputs": [],
   "source": [
    "from cltk.corpus.greek.beta_to_unicode import Replacer\n",
    "from cltk.corpus.utils.formatter import tonos_oxia_converter\n",
    "from cltk.stop.greek.stops import STOPS_LIST\n",
    "from glob import glob\n",
    "from xml.etree.ElementTree import parse"
   ]
  },
  {
   "cell_type": "code",
   "execution_count": 3,
   "metadata": {},
   "outputs": [
    {
     "name": "stdout",
     "output_type": "stream",
     "text": [
      "['αὐτὸς', 'αὐτός', 'γε', 'γὰρ', 'γάρ', \"δ'\", 'δαὶ', 'δαὶς', 'δαί', 'δαίς', 'διὰ', 'διά', 'δὲ', 'δέ', 'δὴ', 'δή', 'εἰ', 'εἰμὶ', 'εἰμί', 'εἰς', 'εἴμι', 'κατὰ', 'κατά', 'καὶ', 'καί', 'μετὰ', 'μετά', 'μὲν', 'μέν', 'μὴ', 'μή', 'οἱ', 'οὐ', 'οὐδεὶς', 'οὐδείς', 'οὐδὲ', 'οὐδέ', 'οὐκ', 'οὔτε', 'οὕτως', 'οὖν', 'οὗτος', 'παρὰ', 'παρά', 'περὶ', 'περί', 'πρὸς', 'πρός', 'σὸς', 'σός', 'σὺ', 'σὺν', 'σύ', 'σύν', 'τε', 'τι', 'τις', 'τοιοῦτος', 'τοὶ', 'τοί', 'τοὺς', 'τούς', 'τοῦ', 'τὰ', 'τά', 'τὴν', 'τήν', 'τὶ', 'τὶς', 'τί', 'τίς', 'τὸ', 'τὸν', 'τό', 'τόν', 'τῆς', 'τῇ', 'τῶν', 'τῷ', \"ἀλλ'\", 'ἀλλὰ', 'ἀλλά', 'ἀπὸ', 'ἀπό', 'ἂν', 'ἄλλος', 'ἄν', 'ἄρα', 'ἐγὼ', 'ἐγώ', 'ἐκ', 'ἐξ', 'ἐμὸς', 'ἐμός', 'ἐν', 'ἐπὶ', 'ἐπί', 'ἐὰν', 'ἐάν', 'ἑαυτοῦ', 'ἔτι', 'ἡ', 'ἢ', 'ἤ', 'ὁ', 'ὃδε', 'ὃς', 'ὅδε', 'ὅς', 'ὅστις', 'ὅτι', 'ὑμὸς', 'ὑμός', 'ὑπὲρ', 'ὑπέρ', 'ὑπὸ', 'ὑπό', 'ὡς', 'ὥστε', 'ὦ', 'ξύν', 'ξὺν', 'σύν', 'σὺν', 'τοῖς', 'τᾶς']\n"
     ]
    }
   ],
   "source": [
    "print(STOPS_LIST)"
   ]
  },
  {
   "cell_type": "code",
   "execution_count": null,
   "metadata": {
    "scrolled": true
   },
   "outputs": [],
   "source": [
    "\n",
    "###############################################\n",
    "# Parsing XML.\n",
    "##################################################\n",
    "\n",
    "xml_files = glob('/Users/christinaoaks/Desktop/Nick/xml_files/*.xml')\n",
    "replacer = Replacer()\n",
    "corpus = []\n",
    "for xml in xml_files:\n",
    "    with open(xml, 'r') as x:\n",
    "        tree = parse(x)\n",
    "        root = tree.getroot()\n",
    "        for sentence in root.iter('sentence'):\n",
    "            sentences = []\n",
    "            for word in sentence.iter('word'):\n",
    "                for lemma in word.iter('lemma'):\n",
    "                    entry = lemma.get('entry')\n",
    "                    if entry is None:\n",
    "                        entry = replacer.beta_code(word.get('form'))\n",
    "                        sentences.append(entry)\n",
    "                    elif tonos_oxia_converter(entry) not in STOPS_LIST:\n",
    "                        sentences.append(entry)\n",
    "            if len(sentences) > 0:\n",
    "                corpus.append(sentences)\n",
    "    x.close()\n",
    "\n",
    "  \n",
    " ##################################################\n",
    "# Writing to file.\n",
    "##################################################  \n",
    "with open('output.txt', 'w') as f:\n",
    "    f.write('\\n'.join(str(c) for c in corpus))\n",
    "f.close()\n",
    "\n",
    "\n",
    "print(corpus) #Testing purposes"
   ]
  },
  {
   "cell_type": "markdown",
   "metadata": {},
   "source": [
    "## Word2Vec"
   ]
  },
  {
   "cell_type": "code",
   "execution_count": 6,
   "metadata": {},
   "outputs": [],
   "source": [
    "# dependencies\n",
    "from __future__ import absolute_import, division, print_function\n",
    "import codecs\n",
    "import glob\n",
    "import multiprocessing\n",
    "import os\n",
    "import pprint\n",
    "import re\n",
    "import gensim.models.word2vec as w2v\n",
    "import numpy as np\n",
    "import sklearn.manifold\n",
    "import matplotlib.pyplot as plt\n",
    "import pandas as pd\n",
    "import seaborn as sns\n",
    "import string"
   ]
  },
  {
   "cell_type": "code",
   "execution_count": 5,
   "metadata": {},
   "outputs": [],
   "source": [
    "# This code defines the hyperparameter\n",
    "# Dimensionality of the resulting word vectors. \n",
    "# The more vectors, the more computaionally extensive to train, but also more accurate.\n",
    "num_features = 300\n",
    "\n",
    "# Minimum word count threshold.\n",
    "min_word_count = 3\n",
    "\n",
    "# Number of threads to run in parallel.\n",
    "num_workers = multiprocessing.cpu_count()\n",
    "\n",
    "# Context window length. Note that Munson (2017: 17) says context_size is optimized at 12 for Greek.\n",
    "context_size = 7\n",
    "\n",
    "# Downsample setting for frequent words.\n",
    "#rate 0 and 1e-5 \n",
    "#how often to use\n",
    "downsampling = 1e-3\n",
    "\n",
    "# Seed for the RNG, to make the results reproducible. This is a random number generator\n",
    "seed = 1"
   ]
  },
  {
   "cell_type": "code",
   "execution_count": 6,
   "metadata": {},
   "outputs": [],
   "source": [
    "# rename this variable for Greek model\n",
    "greek2vec = w2v.Word2Vec(\n",
    "    sg=1,\n",
    "    seed=seed,\n",
    "    workers=num_workers,\n",
    "    size=num_features,\n",
    "    min_count=min_word_count,\n",
    "    window=context_size,\n",
    "    sample=downsampling\n",
    ")"
   ]
  },
  {
   "cell_type": "code",
   "execution_count": 7,
   "metadata": {},
   "outputs": [],
   "source": [
    "greek2vec.build_vocab(corpus)"
   ]
  },
  {
   "cell_type": "code",
   "execution_count": 9,
   "metadata": {},
   "outputs": [
    {
     "name": "stdout",
     "output_type": "stream",
     "text": [
      "The corpus contains 3,532,909 tokens\n"
     ]
    }
   ],
   "source": [
    "token_count = sum([len(sentence) for sentence in corpus])\n",
    "print('The corpus contains {0:,} tokens'.format(token_count))"
   ]
  },
  {
   "cell_type": "code",
   "execution_count": 10,
   "metadata": {
    "scrolled": true
   },
   "outputs": [
    {
     "name": "stdout",
     "output_type": "stream",
     "text": [
      "CPU times: user 2h 1min 10s, sys: 21.1 s, total: 2h 1min 31s\n",
      "Wall time: 32min 23s\n"
     ]
    },
    {
     "data": {
      "text/plain": [
       "(330118452, 353290900)"
      ]
     },
     "execution_count": 10,
     "metadata": {},
     "output_type": "execute_result"
    }
   ],
   "source": [
    "%%time\n",
    "#train model on sentneces, this may take a while to process\n",
    "greek2vec.train(corpus, total_examples=len(corpus), epochs=100)"
   ]
  },
  {
   "cell_type": "markdown",
   "metadata": {},
   "source": [
    "## Save and Load Model"
   ]
  },
  {
   "cell_type": "code",
   "execution_count": 109,
   "metadata": {},
   "outputs": [],
   "source": [
    "#save model\n",
    "if not os.path.exists(\"trained\"):\n",
    "    os.makedirs(\"trained\")"
   ]
  },
  {
   "cell_type": "code",
   "execution_count": 110,
   "metadata": {},
   "outputs": [],
   "source": [
    "greek2vec.save(os.path.join(\"trained\", \"greek2vec.w2v\"))"
   ]
  },
  {
   "cell_type": "code",
   "execution_count": 8,
   "metadata": {},
   "outputs": [],
   "source": [
    "#load model\n",
    "greek2vec = w2v.Word2Vec.load(os.path.join(\"trained\", \"greek2vec.w2v\"))"
   ]
  },
  {
   "cell_type": "markdown",
   "metadata": {},
   "source": [
    "## Functions"
   ]
  },
  {
   "cell_type": "code",
   "execution_count": 47,
   "metadata": {
    "scrolled": true
   },
   "outputs": [
    {
     "data": {
      "text/plain": [
       "array([-0.14877418, -0.09053723,  0.10568244,  0.10703711,  0.28395575,\n",
       "        0.2265677 , -0.41538203,  0.05155652,  0.3880053 ,  0.48325354,\n",
       "       -0.08635101, -0.09870056, -0.32086176, -0.0160188 , -0.11727368,\n",
       "        0.26950556, -0.49433595, -0.25243756, -0.24489333, -0.3929521 ,\n",
       "        0.1100295 , -0.77711046, -0.02062984, -0.29723948, -0.42253914,\n",
       "       -0.34211728, -0.31976104,  0.4749692 , -0.18027478, -0.51577914,\n",
       "       -0.77116185,  0.08532273,  0.38493007,  0.05441218, -0.07791433,\n",
       "       -0.01799494, -0.11053267, -0.10018267, -0.19086589, -0.19001968,\n",
       "       -0.1677784 , -0.02457975,  0.27660665, -0.33869603,  0.26779702,\n",
       "       -0.09660979, -0.34620368,  0.5081821 , -0.00322678,  0.15015791,\n",
       "        0.05227649, -0.03333354,  0.16551217,  0.44792825,  0.69342715,\n",
       "       -0.85942787,  0.42797232, -0.6791218 , -0.22768825, -0.2740795 ,\n",
       "       -0.255957  , -0.05556495, -0.35466513, -0.1267815 , -0.30018747,\n",
       "       -0.5588178 ,  0.33104426, -0.3986837 , -0.19272874,  0.25461787,\n",
       "        0.23188804,  0.62622845,  0.20632601, -0.37040403, -0.08655734,\n",
       "        0.45533714,  0.4029439 , -0.2177166 , -0.0893645 ,  0.32863122,\n",
       "        0.0129661 ,  0.2566241 ,  0.2524465 ,  0.29274842, -0.02912997,\n",
       "       -0.78183514, -0.3185615 ,  0.38695547,  0.22842318, -0.10075445,\n",
       "       -0.14762403,  0.3066164 , -0.02208626,  0.17007898,  0.44220746,\n",
       "       -0.13329887,  0.63764983, -0.8410205 ,  0.6759834 , -0.00953695,\n",
       "       -0.46272954,  0.14004008, -0.1043478 , -0.09744633, -0.47675407,\n",
       "        0.6592597 , -0.48990202,  0.0114437 , -0.20245917, -0.2375507 ,\n",
       "       -0.42728314, -0.18233687, -0.41399413,  0.02436308, -0.63439506,\n",
       "       -0.09120728, -0.46263385,  0.35544783,  0.8814268 ,  0.18176046,\n",
       "       -0.4154644 , -0.25076208, -0.31167254,  0.34141433, -0.0711628 ,\n",
       "       -0.32389456,  0.08937408, -0.08053934, -0.03395921,  0.07042453,\n",
       "       -0.04053118,  0.36591277, -0.7237151 , -0.09883836,  0.17146847,\n",
       "       -0.36141557, -0.00396611, -0.44174063, -0.68044794,  0.2536978 ,\n",
       "       -0.21458161, -0.7082396 ,  0.5512297 ,  0.03106192,  0.25607195,\n",
       "       -0.23332907,  0.0781329 ,  0.16724023,  0.47704566,  0.38212475,\n",
       "        0.1121723 , -0.10244165,  0.14526296, -0.15742943,  0.2678372 ,\n",
       "       -0.43810496,  0.00919939, -0.05354553,  0.58322227, -0.5807171 ,\n",
       "        0.34751868,  0.20452467, -0.48429286, -0.6143701 ,  0.15239196,\n",
       "       -0.37193525, -0.2273233 , -0.17677541,  0.38393867,  0.02696183,\n",
       "       -0.6276375 ,  0.20559359,  0.3582442 , -0.13574933,  0.3713236 ,\n",
       "       -0.4552097 , -0.47456065,  0.02041548,  0.14014794, -0.28000972,\n",
       "        0.21237879,  0.31270018, -0.07666112, -0.6335986 , -0.0930832 ,\n",
       "        0.13245259, -0.01483977,  0.53511155, -0.1661543 , -0.11707954,\n",
       "       -0.05387699, -0.20512934, -0.21281996,  0.6995277 ,  0.26472446,\n",
       "        0.2773338 ,  0.12506787, -0.16536175, -0.28689283, -0.21291833,\n",
       "        0.2240997 ,  0.37421829,  0.23972629,  0.3878687 , -0.06795134,\n",
       "        0.3367723 ,  0.30520436,  0.42159447,  0.7815125 ,  0.44321653,\n",
       "       -0.3612859 ,  0.32696825, -0.5994255 , -0.4168891 ,  0.11501355,\n",
       "        0.69640154, -0.02449544, -0.94332737,  0.0551083 ,  0.31910306,\n",
       "        0.35631356,  0.05085597,  0.0812141 , -0.04023454, -0.67096215,\n",
       "        0.40118665,  0.04162017, -0.32550263,  0.34592775,  0.2842883 ,\n",
       "       -0.17508261, -0.54637605, -0.1142813 ,  0.17086795, -0.48633766,\n",
       "       -0.36124685, -0.00233702,  0.12261026, -0.5063121 , -0.11804759,\n",
       "       -0.4003287 , -0.0567259 , -0.08506513, -0.639876  ,  0.48327887,\n",
       "       -0.04710406, -0.4284379 , -0.36716312,  0.15522176, -0.06670076,\n",
       "       -0.15683497,  0.53428656, -0.45386466,  0.25028822, -0.31990603,\n",
       "        0.24706686,  0.45996743,  0.12075939,  0.31297785, -0.00335967,\n",
       "        0.28707275, -0.39502436, -0.06853785,  0.12425095, -0.29885942,\n",
       "        0.46174932, -0.35177216,  0.11620767, -0.06522125, -0.41221336,\n",
       "       -0.15690917, -0.14417318,  0.08635449,  0.26834267, -0.23088913,\n",
       "       -0.11484704,  0.10657483, -0.09330498, -0.28346676,  0.69075733,\n",
       "        0.3236521 , -0.9056573 ,  0.09353504,  0.4436645 ,  0.48736855,\n",
       "        0.02747775, -0.01869539, -0.45168748,  0.6983501 ,  0.02662052,\n",
       "       -0.444524  ,  0.36239854,  0.34872097,  0.02049927,  0.2110289 ,\n",
       "        0.03752764, -0.2597714 ,  0.3787525 , -0.07684482,  0.37602273],\n",
       "      dtype=float32)"
      ]
     },
     "execution_count": 47,
     "metadata": {},
     "output_type": "execute_result"
    }
   ],
   "source": [
    "#vector array for token\n",
    "greek2vec.wv.__getitem__('ἁγίζω')"
   ]
  }
 ],
 "metadata": {
  "kernelspec": {
   "display_name": "Python 3",
   "language": "python",
   "name": "python3"
  },
  "language_info": {
   "codemirror_mode": {
    "name": "ipython",
    "version": 3
   },
   "file_extension": ".py",
   "mimetype": "text/x-python",
   "name": "python",
   "nbconvert_exporter": "python",
   "pygments_lexer": "ipython3",
   "version": "3.7.5"
  }
 },
 "nbformat": 4,
 "nbformat_minor": 2
}
